{
 "cells": [
  {
   "cell_type": "code",
   "execution_count": null,
   "metadata": {},
   "outputs": [],
   "source": [
    "#new file for projects"
   ]
  }
 ],
 "metadata": {
  "interpreter": {
   "hash": "a0b4c7d9d7a5eace9cc3bf413f3400b40128adabfea0e404a2f82fa85f47d7fa"
  },
  "kernelspec": {
   "display_name": "Python 3.9.5 64-bit",
   "name": "python3"
  },
  "language_info": {
   "name": "python",
   "version": ""
  },
  "orig_nbformat": 4
 },
 "nbformat": 4,
 "nbformat_minor": 2
}